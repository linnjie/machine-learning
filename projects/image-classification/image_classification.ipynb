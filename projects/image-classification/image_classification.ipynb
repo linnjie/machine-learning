{
 "cells": [
  {
   "cell_type": "markdown",
   "metadata": {
    "collapsed": true
   },
   "source": [
    "# Image Classification\n",
    "In this project, you'll classify images from the [CIFAR-10 dataset](https://www.cs.toronto.edu/~kriz/cifar.html).  The dataset consists of airplanes, dogs, cats, and other objects. You'll preprocess the images, then train a convolutional neural network on all the samples. The images need to be normalized and the labels need to be one-hot encoded.  You'll get to apply what you learned and build a convolutional, max pooling, dropout, and fully connected layers.  At the end, you'll get to see your neural network's predictions on the sample images.\n",
    "## Get the Data\n",
    "Run the following cell to download the [CIFAR-10 dataset for python](https://www.cs.toronto.edu/~kriz/cifar-10-python.tar.gz)."
   ]
  },
  {
   "cell_type": "code",
   "execution_count": 6,
   "metadata": {},
   "outputs": [
    {
     "name": "stdout",
     "output_type": "stream",
     "text": [
      "All files found!\n"
     ]
    }
   ],
   "source": [
    "\"\"\"\n",
    "DON'T MODIFY ANYTHING IN THIS CELL THAT IS BELOW THIS LINE\n",
    "\"\"\"\n",
    "from urllib.request import urlretrieve\n",
    "from os.path import isfile, isdir\n",
    "from tqdm import tqdm\n",
    "import problem_unittests as tests\n",
    "import tarfile\n",
    "\n",
    "cifar10_dataset_folder_path = 'cifar-10-batches-py'\n",
    "\n",
    "class DLProgress(tqdm):\n",
    "    last_block = 0\n",
    "\n",
    "    def hook(self, block_num=1, block_size=1, total_size=None):\n",
    "        self.total = total_size\n",
    "        self.update((block_num - self.last_block) * block_size)\n",
    "        self.last_block = block_num\n",
    "\n",
    "if not isfile('cifar-10-python.tar.gz'):\n",
    "    with DLProgress(unit='B', unit_scale=True, miniters=1, desc='CIFAR-10 Dataset') as pbar:\n",
    "        urlretrieve(\n",
    "            'https://www.cs.toronto.edu/~kriz/cifar-10-python.tar.gz',\n",
    "            'cifar-10-python.tar.gz',\n",
    "            pbar.hook)\n",
    "\n",
    "if not isdir(cifar10_dataset_folder_path):\n",
    "    with tarfile.open('cifar-10-python.tar.gz') as tar:\n",
    "        tar.extractall()\n",
    "        tar.close()\n",
    "\n",
    "\n",
    "tests.test_folder_path(cifar10_dataset_folder_path)"
   ]
  },
  {
   "cell_type": "markdown",
   "metadata": {},
   "source": [
    "## Explore the Data\n",
    "The dataset is broken into batches to prevent your machine from running out of memory.  The CIFAR-10 dataset consists of 5 batches, named `data_batch_1`, `data_batch_2`, etc.. Each batch contains the labels and images that are one of the following:\n",
    "* airplane\n",
    "* automobile\n",
    "* bird\n",
    "* cat\n",
    "* deer\n",
    "* dog\n",
    "* frog\n",
    "* horse\n",
    "* ship\n",
    "* truck\n",
    "\n",
    "Understanding a dataset is part of making predictions on the data.  Play around with the code cell below by changing the `batch_id` and `sample_id`. The `batch_id` is the id for a batch (1-5). The `sample_id` is the id for a image and label pair in the batch.\n",
    "\n",
    "Ask yourself \"What are all possible labels?\", \"What is the range of values for the image data?\", \"Are the labels in order or random?\".  Answers to questions like these will help you preprocess the data and end up with better predictions."
   ]
  },
  {
   "cell_type": "code",
   "execution_count": 7,
   "metadata": {},
   "outputs": [
    {
     "name": "stdout",
     "output_type": "stream",
     "text": [
      "\n",
      "Stats of batch 2:\n",
      "Samples: 10000\n",
      "Label Counts: {0: 984, 1: 1007, 2: 1010, 3: 995, 4: 1010, 5: 988, 6: 1008, 7: 1026, 8: 987, 9: 985}\n",
      "First 20 Labels: [1, 6, 6, 8, 8, 3, 4, 6, 0, 6, 0, 3, 6, 6, 5, 4, 8, 3, 2, 6]\n",
      "\n",
      "Example of Image 45:\n",
      "Image - Min Value: 19 Max Value: 255\n",
      "Image - Shape: (32, 32, 3)\n",
      "Label - Label Id: 7 Name: horse\n"
     ]
    },
    {
     "data": {
      "image/png": "[encoded data removed]",
      "text/plain": [
       "<matplotlib.figure.Figure at 0x1a21bad438>"
      ]
     },
     "metadata": {
      "image/png": {
       "height": 250,
       "width": 253
      }
     },
     "output_type": "display_data"
    }
   ],
   "source": [
    "%matplotlib inline\n",
    "%config InlineBackend.figure_format = 'retina'\n",
    "\n",
    "import helper\n",
    "import numpy as np\n",
    "\n",
    "# Explore the dataset\n",
    "batch_id = 2\n",
    "sample_id = 45\n",
    "helper.display_stats(cifar10_dataset_folder_path, batch_id, sample_id)"
   ]
  },
  {
   "cell_type": "markdown",
   "metadata": {},
   "source": [
    "## Implement Preprocess Functions\n",
    "### Normalize\n",
    "In the cell below, implement the `normalize` function to take in image data, `x`, and return it as a normalized Numpy array. The values should be in the range of 0 to 1, inclusive.  The return object should be the same shape as `x`."
   ]
  },
  {
   "cell_type": "code",
   "execution_count": 55,
   "metadata": {},
   "outputs": [
    {
     "name": "stdout",
     "output_type": "stream",
     "text": [
      "Tests Passed\n"
     ]
    }
   ],
   "source": [
    "from sklearn.preprocessing import MinMaxScaler\n",
    "def normalize(x):\n",
    "    \"\"\"\n",
    "    Normalize a list of sample image data in the range of 0 to 1\n",
    "    : x: List of image data.  The image shape is (32, 32, 3)\n",
    "    : return: Numpy array of normalize data\n",
    "    \"\"\"\n",
    "    # TODO: Implement Function\n",
    "    return np.divide(x, 255)\n",
    "    \n",
    "\n",
    "\"\"\"\n",
    "DON'T MODIFY ANYTHING IN THIS CELL THAT IS BELOW THIS LINE\n",
    "\"\"\"\n",
    "tests.test_normalize(normalize)"
   ]
  },
  {
   "cell_type": "markdown",
   "metadata": {},
   "source": [
    "### One-hot encode\n",
    "Just like the previous code cell, you'll be implementing a function for preprocessing.  This time, you'll implement the `one_hot_encode` function. The input, `x`, are a list of labels.  Implement the function to return the list of labels as One-Hot encoded Numpy array.  The possible values for labels are 0 to 9. The one-hot encoding function should return the same encoding for each value between each call to `one_hot_encode`.  Make sure to save the map of encodings outside the function.\n",
    "\n",
    "**Hint:**\n",
    "\n",
    "Look into LabelBinarizer in the preprocessing module of sklearn."
   ]
  },
  {
   "cell_type": "code",
   "execution_count": 174,
   "metadata": {},
   "outputs": [
    {
     "name": "stdout",
     "output_type": "stream",
     "text": [
      "Tests Passed\n"
     ]
    }
   ],
   "source": [
    "def one_hot_encode(x):\n",
    "    \"\"\"\n",
    "    One hot encode a list of sample labels. Return a one-hot encoded vector for each label.\n",
    "    : x: List of sample Labels\n",
    "    : return: Numpy array of one-hot encoded labels\n",
    "    \"\"\"\n",
    "    # TODO: Implement Function\n",
    "    from sklearn.preprocessing import OneHotEncoder\n",
    "    return OneHotEncoder(n_values=10).fit_transform(np.array(x).reshape(-1, 1)).toarray()\n",
    "    '''\n",
    "    one_hot_vector = []\n",
    "    one_hot_matrix = []\n",
    "    for label in x:\n",
    "        for i in range(10):\n",
    "            if i == label:\n",
    "                one_hot_vector.append(1)\n",
    "            else:\n",
    "                one_hot_vector.append(0)\n",
    "        one_hot_matrix.append(one_hot_vector)\n",
    "        one_hot_vector = []\n",
    "    \n",
    "    return np.array(one_hot_matrix)\n",
    "    '''\n",
    "\"\"\"\n",
    "DON'T MODIFY ANYTHING IN THIS CELL THAT IS BELOW THIS LINE\n",
    "\"\"\"\n",
    "tests.test_one_hot_encode(one_hot_encode)"
   ]
  },
  {
   "cell_type": "markdown",
   "metadata": {},
   "source": [
    "### Randomize Data\n",
    "As you saw from exploring the data above, the order of the samples are randomized.  It doesn't hurt to randomize it again, but you don't need to for this dataset."
   ]
  },
  {
   "cell_type": "markdown",
   "metadata": {},
   "source": [
    "## Preprocess all the data and save it\n",
    "Running the code cell below will preprocess all the CIFAR-10 data and save it to file. The code below also uses 10% of the training data for validation."
   ]
  },
  {
   "cell_type": "code",
   "execution_count": 175,
   "metadata": {
    "collapsed": true
   },
   "outputs": [],
   "source": [
    "\"\"\"\n",
    "DON'T MODIFY ANYTHING IN THIS CELL\n",
    "\"\"\"\n",
    "# Preprocess Training, Validation, and Testing Data\n",
    "helper.preprocess_and_save_data(cifar10_dataset_folder_path, normalize, one_hot_encode)"
   ]
  },
  {
   "cell_type": "markdown",
   "metadata": {},
   "source": [
    "# Check Point\n",
    "This is your first checkpoint.  If you ever decide to come back to this notebook or have to restart the notebook, you can start from here.  The preprocessed data has been saved to disk."
   ]
  },
  {
   "cell_type": "code",
   "execution_count": 1,
   "metadata": {
    "collapsed": true
   },
   "outputs": [],
   "source": [
    "\"\"\"\n",
    "DON'T MODIFY ANYTHING IN THIS CELL\n",
    "\"\"\"\n",
    "import pickle\n",
    "import problem_unittests as tests\n",
    "import helper\n",
    "\n",
    "# Load the Preprocessed Validation data\n",
    "valid_features, valid_labels = pickle.load(open('preprocess_validation.p', mode='rb'))"
   ]
  },
  {
   "cell_type": "markdown",
   "metadata": {},
   "source": [
    "## Build the network\n",
    "For the neural network, you'll build each layer into a function.  Most of the code you've seen has been outside of functions. To test your code more thoroughly, we require that you put each layer in a function.  This allows us to give you better feedback and test for simple mistakes using our unittests before you submit your project.\n",
    "\n",
    ">**Note:** If you're finding it hard to dedicate enough time for this course each week, we've provided a small shortcut to this part of the project. In the next couple of problems, you'll have the option to use classes from the [TensorFlow Layers](https://www.tensorflow.org/api_docs/python/tf/layers) or [TensorFlow Layers (contrib)](https://www.tensorflow.org/api_guides/python/contrib.layers) packages to build each layer, except the layers you build in the \"Convolutional and Max Pooling Layer\" section.  TF Layers is similar to Keras's and TFLearn's abstraction to layers, so it's easy to pickup.\n",
    "\n",
    ">However, if you would like to get the most out of this course, try to solve all the problems _without_ using anything from the TF Layers packages. You **can** still use classes from other packages that happen to have the same name as ones you find in TF Layers! For example, instead of using the TF Layers version of the `conv2d` class, [tf.layers.conv2d](https://www.tensorflow.org/api_docs/python/tf/layers/conv2d), you would want to use the TF Neural Network version of `conv2d`, [tf.nn.conv2d](https://www.tensorflow.org/api_docs/python/tf/nn/conv2d). \n",
    "\n",
    "Let's begin!\n",
    "\n",
    "### Input\n",
    "The neural network needs to read the image data, one-hot encoded labels, and dropout keep probability. Implement the following functions\n",
    "* Implement `neural_net_image_input`\n",
    " * Return a [TF Placeholder](https://www.tensorflow.org/api_docs/python/tf/placeholder)\n",
    " * Set the shape using `image_shape` with batch size set to `None`.\n",
    " * Name the TensorFlow placeholder \"x\" using the TensorFlow `name` parameter in the [TF Placeholder](https://www.tensorflow.org/api_docs/python/tf/placeholder).\n",
    "* Implement `neural_net_label_input`\n",
    " * Return a [TF Placeholder](https://www.tensorflow.org/api_docs/python/tf/placeholder)\n",
    " * Set the shape using `n_classes` with batch size set to `None`.\n",
    " * Name the TensorFlow placeholder \"y\" using the TensorFlow `name` parameter in the [TF Placeholder](https://www.tensorflow.org/api_docs/python/tf/placeholder).\n",
    "* Implement `neural_net_keep_prob_input`\n",
    " * Return a [TF Placeholder](https://www.tensorflow.org/api_docs/python/tf/placeholder) for dropout keep probability.\n",
    " * Name the TensorFlow placeholder \"keep_prob\" using the TensorFlow `name` parameter in the [TF Placeholder](https://www.tensorflow.org/api_docs/python/tf/placeholder).\n",
    "\n",
    "These names will be used at the end of the project to load your saved model.\n",
    "\n",
    "Note: `None` for shapes in TensorFlow allow for a dynamic size."
   ]
  },
  {
   "cell_type": "code",
   "execution_count": 8,
   "metadata": {},
   "outputs": [
    {
     "name": "stdout",
     "output_type": "stream",
     "text": [
      "Image Input Tests Passed.\n",
      "Label Input Tests Passed.\n",
      "Keep Prob Tests Passed.\n"
     ]
    }
   ],
   "source": [
    "import tensorflow as tf\n",
    "\n",
    "def neural_net_image_input(image_shape):\n",
    "    \"\"\"\n",
    "    Return a Tensor for a batch of image input\n",
    "    : image_shape: Shape of the images\n",
    "    : return: Tensor for image input.\n",
    "    \"\"\"\n",
    "    # TODO: Implement Function\n",
    "    return tf.placeholder(tf.float32, shape=[None, *image_shape], name='x')\n",
    "\n",
    "\n",
    "def neural_net_label_input(n_classes):\n",
    "    \"\"\"\n",
    "    Return a Tensor for a batch of label input\n",
    "    : n_classes: Number of classes\n",
    "    : return: Tensor for label input.\n",
    "    \"\"\"\n",
    "    # TODO: Implement Function\n",
    "    return tf.placeholder(tf.float32, [None, n_classes], name='y')\n",
    "\n",
    "\n",
    "def neural_net_keep_prob_input():\n",
    "    \"\"\"\n",
    "    Return a Tensor for keep probability\n",
    "    : return: Tensor for keep probability.\n",
    "    \"\"\"\n",
    "    # TODO: Implement Function\n",
    "    return tf.placeholder(tf.float32, name='keep_prob')\n",
    "\n",
    "\n",
    "\"\"\"\n",
    "DON'T MODIFY ANYTHING IN THIS CELL THAT IS BELOW THIS LINE\n",
    "\"\"\"\n",
    "tf.reset_default_graph()\n",
    "tests.test_nn_image_inputs(neural_net_image_input)\n",
    "tests.test_nn_label_inputs(neural_net_label_input)\n",
    "tests.test_nn_keep_prob_inputs(neural_net_keep_prob_input)"
   ]
  },
  {
   "cell_type": "markdown",
   "metadata": {},
   "source": [
    "### Convolution and Max Pooling Layer\n",
    "Convolution layers have a lot of success with images. For this code cell, you should implement the function `conv2d_maxpool` to apply convolution then max pooling:\n",
    "* Create the weight and bias using `conv_ksize`, `conv_num_outputs` and the shape of `x_tensor`.\n",
    "* Apply a convolution to `x_tensor` using weight and `conv_strides`.\n",
    " * We recommend you use same padding, but you're welcome to use any padding.\n",
    "* Add bias\n",
    "* Add a nonlinear activation to the convolution.\n",
    "* Apply Max Pooling using `pool_ksize` and `pool_strides`.\n",
    " * We recommend you use same padding, but you're welcome to use any padding.\n",
    "\n",
    "**Note:** You **can't** use [TensorFlow Layers](https://www.tensorflow.org/api_docs/python/tf/layers) or [TensorFlow Layers (contrib)](https://www.tensorflow.org/api_guides/python/contrib.layers) for **this** layer, but you can still use TensorFlow's [Neural Network](https://www.tensorflow.org/api_docs/python/tf/nn) package. You may still use the shortcut option for all the **other** layers.\n",
    "\n",
    "** Hint: **\n",
    "\n",
    "When unpacking values as an argument in Python, look into the [unpacking](https://docs.python.org/3/tutorial/controlflow.html#unpacking-argument-lists) operator. "
   ]
  },
  {
   "cell_type": "code",
   "execution_count": 9,
   "metadata": {
    "scrolled": false
   },
   "outputs": [
    {
     "name": "stdout",
     "output_type": "stream",
     "text": [
      "Tests Passed\n"
     ]
    }
   ],
   "source": [
    "def conv2d_maxpool(x_tensor, conv_num_outputs, conv_ksize, conv_strides, pool_ksize, pool_strides):\n",
    "    \"\"\"\n",
    "    Apply convolution then max pooling to x_tensor\n",
    "    :param x_tensor: TensorFlow Tensor\n",
    "    :param conv_num_outputs: Number of outputs for the convolutional layer\n",
    "    :param conv_ksize: kernal size 2-D Tuple for the convolutional layer\n",
    "    :param conv_strides: Stride 2-D Tuple for convolution\n",
    "    :param pool_ksize: kernal size 2-D Tuple for pool\n",
    "    :param pool_strides: Stride 2-D Tuple for pool\n",
    "    : return: A tensor that represents convolution and max pooling of x_tensor\n",
    "    \"\"\"\n",
    "    # TODO: Implement Function\n",
    "    weight = tf.Variable(tf.divide(tf.truncated_normal([*conv_ksize, x_tensor.get_shape().as_list()[3], conv_num_outputs]), 1000))\n",
    "    bias = tf.Variable(tf.zeros([conv_num_outputs]))\n",
    "    x_tensor = tf.nn.conv2d(x_tensor, weight, strides=[1, *conv_strides, 1], padding='SAME')\n",
    "    x_tensor = tf.nn.bias_add(x_tensor, bias)\n",
    "    x_tensor = tf.nn.relu(x_tensor)\n",
    "    x_tensor = tf.nn.max_pool(x_tensor, ksize=[1, *pool_ksize, 1], strides=[1, *pool_strides, 1], padding='SAME')\n",
    "    return x_tensor \n",
    "\n",
    "\n",
    "\"\"\"\n",
    "DON'T MODIFY ANYTHING IN THIS CELL THAT IS BELOW THIS LINE\n",
    "\"\"\"\n",
    "tests.test_con_pool(conv2d_maxpool)"
   ]
  },
  {
   "cell_type": "markdown",
   "metadata": {},
   "source": [
    "### Flatten Layer\n",
    "Implement the `flatten` function to change the dimension of `x_tensor` from a 4-D tensor to a 2-D tensor.  The output should be the shape (*Batch Size*, *Flattened Image Size*). Shortcut option: you can use classes from the [TensorFlow Layers](https://www.tensorflow.org/api_docs/python/tf/layers) or [TensorFlow Layers (contrib)](https://www.tensorflow.org/api_guides/python/contrib.layers) packages for this layer. For more of a challenge, only use other TensorFlow packages."
   ]
  },
  {
   "cell_type": "code",
   "execution_count": 10,
   "metadata": {},
   "outputs": [
    {
     "name": "stdout",
     "output_type": "stream",
     "text": [
      "Tests Passed\n"
     ]
    }
   ],
   "source": [
    "def flatten(x_tensor):\n",
    "    \"\"\"\n",
    "    Flatten x_tensor to (Batch Size, Flattened Image Size)\n",
    "    : x_tensor: A tensor of size (Batch Size, ...), where ... are the image dimensions.\n",
    "    : return: A tensor of size (Batch Size, Flattened Image Size).\n",
    "    \"\"\"\n",
    "    # TODO: Implement Function\n",
    "    shape = x_tensor.get_shape().as_list()\n",
    "    dim = np.prod(shape[1:])\n",
    "    return tf.reshape(x_tensor, [-1, dim])\n",
    "\n",
    "\n",
    "\"\"\"\n",
    "DON'T MODIFY ANYTHING IN THIS CELL THAT IS BELOW THIS LINE\n",
    "\"\"\"\n",
    "tests.test_flatten(flatten)"
   ]
  },
  {
   "cell_type": "markdown",
   "metadata": {},
   "source": [
    "### Fully-Connected Layer\n",
    "Implement the `fully_conn` function to apply a fully connected layer to `x_tensor` with the shape (*Batch Size*, *num_outputs*). Shortcut option: you can use classes from the [TensorFlow Layers](https://www.tensorflow.org/api_docs/python/tf/layers) or [TensorFlow Layers (contrib)](https://www.tensorflow.org/api_guides/python/contrib.layers) packages for this layer. For more of a challenge, only use other TensorFlow packages."
   ]
  },
  {
   "cell_type": "code",
   "execution_count": 35,
   "metadata": {
    "scrolled": false
   },
   "outputs": [
    {
     "name": "stdout",
     "output_type": "stream",
     "text": [
      "Tests Passed\n"
     ]
    }
   ],
   "source": [
    "def fully_conn(x_tensor, num_outputs):\n",
    "    \"\"\"\n",
    "    Apply a fully connected layer to x_tensor using weight and bias\n",
    "    : x_tensor: A 2-D tensor where the first dimension is batch size.\n",
    "    : num_outputs: The number of output that the new tensor should be.\n",
    "    : return: A 2-D tensor where the second dimension is num_outputs.\n",
    "    \"\"\"\n",
    "    # TODO: Implement Function\n",
    "    shape = x_tensor.get_shape().as_list()\n",
    "    weight = tf.Variable(tf.divide(tf.truncated_normal([shape[1], num_outputs]), 1000))\n",
    "    bias = tf.Variable(tf.zeros([num_outputs]))\n",
    "    x_tensor = tf.add(tf.matmul(x_tensor, weight), bias)\n",
    "    x_tensor = tf.nn.relu(x_tensor)\n",
    "    return x_tensor\n",
    "\n",
    "\n",
    "\"\"\"\n",
    "DON'T MODIFY ANYTHING IN THIS CELL THAT IS BELOW THIS LINE\n",
    "\"\"\"\n",
    "tests.test_fully_conn(fully_conn)"
   ]
  },
  {
   "cell_type": "markdown",
   "metadata": {},
   "source": [
    "### Output Layer\n",
    "Implement the `output` function to apply a fully connected layer to `x_tensor` with the shape (*Batch Size*, *num_outputs*). Shortcut option: you can use classes from the [TensorFlow Layers](https://www.tensorflow.org/api_docs/python/tf/layers) or [TensorFlow Layers (contrib)](https://www.tensorflow.org/api_guides/python/contrib.layers) packages for this layer. For more of a challenge, only use other TensorFlow packages.\n",
    "\n",
    "**Note:** Activation, softmax, or cross entropy should **not** be applied to this."
   ]
  },
  {
   "cell_type": "code",
   "execution_count": 12,
   "metadata": {},
   "outputs": [
    {
     "name": "stdout",
     "output_type": "stream",
     "text": [
      "Tests Passed\n"
     ]
    }
   ],
   "source": [
    "def output(x_tensor, num_outputs):\n",
    "    \"\"\"\n",
    "    Apply a output layer to x_tensor using weight and bias\n",
    "    : x_tensor: A 2-D tensor where the first dimension is batch size.\n",
    "    : num_outputs: The number of output that the new tensor should be.\n",
    "    : return: A 2-D tensor where the second dimension is num_outputs.\n",
    "    \"\"\"\n",
    "    # TODO: Implement Function\n",
    "    shape = x_tensor.get_shape().as_list()\n",
    "    weight = tf.Variable(tf.divide(tf.truncated_normal([shape[1], num_outputs]), 1000))\n",
    "    bias = tf.Variable(tf.zeros([num_outputs]))\n",
    "    return tf.add(tf.matmul(x_tensor, weight), bias)\n",
    "\n",
    "\n",
    "\"\"\"\n",
    "DON'T MODIFY ANYTHING IN THIS CELL THAT IS BELOW THIS LINE\n",
    "\"\"\"\n",
    "tests.test_output(output)"
   ]
  },
  {
   "cell_type": "markdown",
   "metadata": {},
   "source": [
    "### Create Convolutional Model\n",
    "Implement the function `conv_net` to create a convolutional neural network model. The function takes in a batch of images, `x`, and outputs logits.  Use the layers you created above to create this model:\n",
    "\n",
    "* Apply 1, 2, or 3 Convolution and Max Pool layers\n",
    "* Apply a Flatten Layer\n",
    "* Apply 1, 2, or 3 Fully Connected Layers\n",
    "* Apply an Output Layer\n",
    "* Return the output\n",
    "* Apply [TensorFlow's Dropout](https://www.tensorflow.org/api_docs/python/tf/nn/dropout) to one or more layers in the model using `keep_prob`. "
   ]
  },
  {
   "cell_type": "code",
   "execution_count": 38,
   "metadata": {},
   "outputs": [
    {
     "name": "stdout",
     "output_type": "stream",
     "text": [
      "Neural Network Built!\n"
     ]
    }
   ],
   "source": [
    "def conv_net(x, keep_prob):\n",
    "    \"\"\"\n",
    "    Create a convolutional neural network model\n",
    "    : x: Placeholder tensor that holds image data.\n",
    "    : keep_prob: Placeholder tensor that hold dropout keep probability.\n",
    "    : return: Tensor that represents logits\n",
    "    \"\"\"\n",
    "    # TODO: Apply 1, 2, or 3 Convolution and Max Pool layers\n",
    "    #    Play around with different number of outputs, kernel size and stride\n",
    "    # Function Definition from Above:\n",
    "    #    conv2d_maxpool(x_tensor, conv_num_outputs, conv_ksize, conv_strides, pool_ksize, pool_strides)\n",
    "    #x = conv2d_maxpool(x, 16, (5,5), (1,1), (1,1), (1,1))\n",
    "    x = conv2d_maxpool(x, 32, (5,5), (1,1), (2,2), (2,2))\n",
    "    x = conv2d_maxpool(x, 32, (3,3), (1,1), (2,2), (2,2))\n",
    "    \n",
    "    # TODO: Apply a Flatten Layer\n",
    "    # Function Definition from Above:\n",
    "    #   flatten(x_tensor)\n",
    "    x = flatten(x)\n",
    "    \n",
    "    # TODO: Apply 1, 2, or 3 Fully Connected Layers\n",
    "    #    Play around with different number of outputs\n",
    "    # Function Definition from Above:\n",
    "    #   fully_conn(x_tensor, num_outputs)\n",
    "    x = fully_conn(x, 128)\n",
    "    x = tf.nn.dropout(x, keep_prob)\n",
    "    x = fully_conn(x, 128)\n",
    "    x = tf.nn.dropout(x, keep_prob)\n",
    "    \n",
    "    # TODO: Apply an Output Layer\n",
    "    #    Set this to the number of classes\n",
    "    # Function Definition from Above:\n",
    "    #   output(x_tensor, num_outputs)\n",
    "    logits = output(x, 10)\n",
    "    \n",
    "    # TODO: return output\n",
    "    return logits\n",
    "\n",
    "\n",
    "\"\"\"\n",
    "DON'T MODIFY ANYTHING IN THIS CELL THAT IS BELOW THIS LINE\n",
    "\"\"\"\n",
    "\n",
    "##############################\n",
    "## Build the Neural Network ##\n",
    "##############################\n",
    "\n",
    "# Remove previous weights, bias, inputs, etc..\n",
    "tf.reset_default_graph()\n",
    "\n",
    "# Inputs\n",
    "x = neural_net_image_input((32, 32, 3))\n",
    "y = neural_net_label_input(10)\n",
    "keep_prob = neural_net_keep_prob_input()\n",
    "\n",
    "# Model\n",
    "logits = conv_net(x, keep_prob)\n",
    "\n",
    "# Name logits Tensor, so that is can be loaded from disk after training\n",
    "logits = tf.identity(logits, name='logits')\n",
    "\n",
    "# Loss and Optimizer\n",
    "cost = tf.reduce_mean(tf.nn.softmax_cross_entropy_with_logits(logits=logits, labels=y))\n",
    "optimizer = tf.train.AdamOptimizer().minimize(cost)\n",
    "\n",
    "# Accuracy\n",
    "correct_pred = tf.equal(tf.argmax(logits, 1), tf.argmax(y, 1))\n",
    "accuracy = tf.reduce_mean(tf.cast(correct_pred, tf.float32), name='accuracy')\n",
    "\n",
    "tests.test_conv_net(conv_net)"
   ]
  },
  {
   "cell_type": "markdown",
   "metadata": {},
   "source": [
    "## Train the Neural Network\n",
    "### Single Optimization\n",
    "Implement the function `train_neural_network` to do a single optimization.  The optimization should use `optimizer` to optimize in `session` with a `feed_dict` of the following:\n",
    "* `x` for image input\n",
    "* `y` for labels\n",
    "* `keep_prob` for keep probability for dropout\n",
    "\n",
    "This function will be called for each batch, so `tf.global_variables_initializer()` has already been called.\n",
    "\n",
    "Note: Nothing needs to be returned. This function is only optimizing the neural network."
   ]
  },
  {
   "cell_type": "code",
   "execution_count": 14,
   "metadata": {},
   "outputs": [
    {
     "name": "stdout",
     "output_type": "stream",
     "text": [
      "Tests Passed\n"
     ]
    }
   ],
   "source": [
    "def train_neural_network(session, optimizer, keep_probability, feature_batch, label_batch):\n",
    "    \"\"\"\n",
    "    Optimize the session on a batch of images and labels\n",
    "    : session: Current TensorFlow session\n",
    "    : optimizer: TensorFlow optimizer function\n",
    "    : keep_probability: keep probability\n",
    "    : feature_batch: Batch of Numpy image data\n",
    "    : label_batch: Batch of Numpy label data\n",
    "    \"\"\"\n",
    "    # TODO: Implement Function\n",
    "    session.run(optimizer, feed_dict={x: feature_batch, y: label_batch, keep_prob: keep_probability})\n",
    "\n",
    "\n",
    "\"\"\"\n",
    "DON'T MODIFY ANYTHING IN THIS CELL THAT IS BELOW THIS LINE\n",
    "\"\"\"\n",
    "tests.test_train_nn(train_neural_network)"
   ]
  },
  {
   "cell_type": "markdown",
   "metadata": {},
   "source": [
    "### Show Stats\n",
    "Implement the function `print_stats` to print loss and validation accuracy.  Use the global variables `valid_features` and `valid_labels` to calculate validation accuracy.  Use a keep probability of `1.0` to calculate the loss and validation accuracy."
   ]
  },
  {
   "cell_type": "code",
   "execution_count": 15,
   "metadata": {
    "collapsed": true
   },
   "outputs": [],
   "source": [
    "def print_stats(session, feature_batch, label_batch, cost, accuracy):\n",
    "    \"\"\"\n",
    "    Print information about loss and validation accuracy\n",
    "    : session: Current TensorFlow session\n",
    "    : feature_batch: Batch of Numpy image data\n",
    "    : label_batch: Batch of Numpy label data\n",
    "    : cost: TensorFlow cost function\n",
    "    : accuracy: TensorFlow accuracy function\n",
    "    \"\"\"\n",
    "    # TODO: Implement Function\n",
    "    \n",
    "    cost = session.run(cost, feed_dict={x: feature_batch, y: label_batch, keep_prob: 1.})\n",
    "    acc = session.run(accuracy, feed_dict={x: feature_batch, y: label_batch, keep_prob: 1.})\n",
    "    val_acc = session.run(accuracy, feed_dict={x: valid_features, y: valid_labels, keep_prob: 1.})\n",
    "    print(\"cost: {:<10.4f}  acc: {:<10.4f}  val_acc: {:<10.4f}\".format(cost, acc, val_acc))"
   ]
  },
  {
   "cell_type": "markdown",
   "metadata": {},
   "source": [
    "### Hyperparameters\n",
    "Tune the following parameters:\n",
    "* Set `epochs` to the number of iterations until the network stops learning or start overfitting\n",
    "* Set `batch_size` to the highest number that your machine has memory for.  Most people set them to common sizes of memory:\n",
    " * 64\n",
    " * 128\n",
    " * 256\n",
    " * ...\n",
    "* Set `keep_probability` to the probability of keeping a node using dropout"
   ]
  },
  {
   "cell_type": "code",
   "execution_count": 16,
   "metadata": {
    "collapsed": true
   },
   "outputs": [],
   "source": [
    "# TODO: Tune Parameters\n",
    "epochs = 30\n",
    "batch_size = 128\n",
    "keep_probability = 0.7"
   ]
  },
  {
   "cell_type": "markdown",
   "metadata": {},
   "source": [
    "### Train on a Single CIFAR-10 Batch\n",
    "Instead of training the neural network on all the CIFAR-10 batches of data, let's use a single batch. This should save time while you iterate on the model to get a better accuracy.  Once the final validation accuracy is 50% or greater, run the model on all the data in the next section."
   ]
  },
  {
   "cell_type": "code",
   "execution_count": 39,
   "metadata": {
    "scrolled": false
   },
   "outputs": [
    {
     "name": "stdout",
     "output_type": "stream",
     "text": [
      "Checking the Training on a Single Batch...\n",
      "Epoch  1, CIFAR-10 Batch 1:  cost: 2.2208      acc: 0.1750      val_acc: 0.2082    \n",
      "Epoch  2, CIFAR-10 Batch 1:  cost: 2.2515      acc: 0.2500      val_acc: 0.2578    \n",
      "Epoch  3, CIFAR-10 Batch 1:  cost: 2.2463      acc: 0.1750      val_acc: 0.2720    \n",
      "Epoch  4, CIFAR-10 Batch 1:  cost: 2.1687      acc: 0.2500      val_acc: 0.2972    \n",
      "Epoch  5, CIFAR-10 Batch 1:  cost: 2.1637      acc: 0.2000      val_acc: 0.3232    \n",
      "Epoch  6, CIFAR-10 Batch 1:  cost: 2.1216      acc: 0.3250      val_acc: 0.3538    \n",
      "Epoch  7, CIFAR-10 Batch 1:  cost: 2.0454      acc: 0.4000      val_acc: 0.3870    \n",
      "Epoch  8, CIFAR-10 Batch 1:  cost: 1.9615      acc: 0.4000      val_acc: 0.4004    \n",
      "Epoch  9, CIFAR-10 Batch 1:  cost: 1.9035      acc: 0.3750      val_acc: 0.4084    \n",
      "Epoch 10, CIFAR-10 Batch 1:  cost: 1.8269      acc: 0.4000      val_acc: 0.4222    \n",
      "Epoch 11, CIFAR-10 Batch 1:  cost: 1.7917      acc: 0.3500      val_acc: 0.4154    \n",
      "Epoch 12, CIFAR-10 Batch 1:  cost: 1.7166      acc: 0.4000      val_acc: 0.4320    \n",
      "Epoch 13, CIFAR-10 Batch 1:  cost: 1.6246      acc: 0.4500      val_acc: 0.4418    \n",
      "Epoch 14, CIFAR-10 Batch 1:  cost: 1.5506      acc: 0.4500      val_acc: 0.4432    \n",
      "Epoch 15, CIFAR-10 Batch 1:  cost: 1.5031      acc: 0.5500      val_acc: 0.4532    \n",
      "Epoch 16, CIFAR-10 Batch 1:  cost: 1.4312      acc: 0.4500      val_acc: 0.4596    \n",
      "Epoch 17, CIFAR-10 Batch 1:  cost: 1.3726      acc: 0.4500      val_acc: 0.4654    \n",
      "Epoch 18, CIFAR-10 Batch 1:  cost: 1.2906      acc: 0.5750      val_acc: 0.4752    \n",
      "Epoch 19, CIFAR-10 Batch 1:  cost: 1.2437      acc: 0.5750      val_acc: 0.4754    \n",
      "Epoch 20, CIFAR-10 Batch 1:  cost: 1.1811      acc: 0.6000      val_acc: 0.4886    \n",
      "Epoch 21, CIFAR-10 Batch 1:  cost: 1.1696      acc: 0.6500      val_acc: 0.4860    \n",
      "Epoch 22, CIFAR-10 Batch 1:  cost: 1.0463      acc: 0.6750      val_acc: 0.4950    \n",
      "Epoch 23, CIFAR-10 Batch 1:  cost: 1.0184      acc: 0.6750      val_acc: 0.4942    \n",
      "Epoch 24, CIFAR-10 Batch 1:  cost: 0.9924      acc: 0.6500      val_acc: 0.4956    \n",
      "Epoch 25, CIFAR-10 Batch 1:  cost: 0.9114      acc: 0.6750      val_acc: 0.4976    \n",
      "Epoch 26, CIFAR-10 Batch 1:  cost: 0.9009      acc: 0.6750      val_acc: 0.4904    \n",
      "Epoch 27, CIFAR-10 Batch 1:  cost: 0.8977      acc: 0.6750      val_acc: 0.5046    \n",
      "Epoch 28, CIFAR-10 Batch 1:  cost: 0.8123      acc: 0.7250      val_acc: 0.5142    \n",
      "Epoch 29, CIFAR-10 Batch 1:  cost: 0.7322      acc: 0.7500      val_acc: 0.5124    \n",
      "Epoch 30, CIFAR-10 Batch 1:  cost: 0.6935      acc: 0.7750      val_acc: 0.5150    \n"
     ]
    }
   ],
   "source": [
    "\"\"\"\n",
    "DON'T MODIFY ANYTHING IN THIS CELL\n",
    "\"\"\"\n",
    "print('Checking the Training on a Single Batch...')\n",
    "with tf.Session() as sess:\n",
    "    # Initializing the variables\n",
    "    sess.run(tf.global_variables_initializer())\n",
    "    \n",
    "    # Training cycle\n",
    "    for epoch in range(epochs):\n",
    "        batch_i = 1\n",
    "        for batch_features, batch_labels in helper.load_preprocess_training_batch(batch_i, batch_size):\n",
    "            train_neural_network(sess, optimizer, keep_probability, batch_features, batch_labels)\n",
    "        print('Epoch {:>2}, CIFAR-10 Batch {}:  '.format(epoch + 1, batch_i), end='')\n",
    "        print_stats(sess, batch_features, batch_labels, cost, accuracy)"
   ]
  },
  {
   "cell_type": "markdown",
   "metadata": {},
   "source": [
    "### Fully Train the Model\n",
    "Now that you got a good accuracy with a single CIFAR-10 batch, try it with all five batches."
   ]
  },
  {
   "cell_type": "code",
   "execution_count": 40,
   "metadata": {
    "scrolled": false
   },
   "outputs": [
    {
     "name": "stdout",
     "output_type": "stream",
     "text": [
      "Training...\n",
      "Epoch  1, CIFAR-10 Batch 1:  cost: 2.2329      acc: 0.1250      val_acc: 0.1882    \n",
      "Epoch  1, CIFAR-10 Batch 2:  cost: 2.0383      acc: 0.3000      val_acc: 0.2512    \n",
      "Epoch  1, CIFAR-10 Batch 3:  cost: 1.8814      acc: 0.1000      val_acc: 0.2342    \n",
      "Epoch  1, CIFAR-10 Batch 4:  cost: 1.9142      acc: 0.3500      val_acc: 0.2762    \n",
      "Epoch  1, CIFAR-10 Batch 5:  cost: 2.0207      acc: 0.2500      val_acc: 0.3004    \n",
      "Epoch  2, CIFAR-10 Batch 1:  cost: 2.1814      acc: 0.1500      val_acc: 0.3082    \n",
      "Epoch  2, CIFAR-10 Batch 2:  cost: 2.0350      acc: 0.3250      val_acc: 0.3278    \n",
      "Epoch  2, CIFAR-10 Batch 3:  cost: 1.6458      acc: 0.4000      val_acc: 0.3374    \n",
      "Epoch  2, CIFAR-10 Batch 4:  cost: 1.7097      acc: 0.3500      val_acc: 0.3678    \n",
      "Epoch  2, CIFAR-10 Batch 5:  cost: 1.7764      acc: 0.3750      val_acc: 0.3932    \n",
      "Epoch  3, CIFAR-10 Batch 1:  cost: 1.9543      acc: 0.4000      val_acc: 0.4062    \n",
      "Epoch  3, CIFAR-10 Batch 2:  cost: 1.6878      acc: 0.4500      val_acc: 0.4086    \n",
      "Epoch  3, CIFAR-10 Batch 3:  cost: 1.4009      acc: 0.4250      val_acc: 0.4158    \n",
      "Epoch  3, CIFAR-10 Batch 4:  cost: 1.5704      acc: 0.3750      val_acc: 0.4208    \n",
      "Epoch  3, CIFAR-10 Batch 5:  cost: 1.7267      acc: 0.4250      val_acc: 0.4244    \n",
      "Epoch  4, CIFAR-10 Batch 1:  cost: 1.8638      acc: 0.4000      val_acc: 0.4466    \n",
      "Epoch  4, CIFAR-10 Batch 2:  cost: 1.5405      acc: 0.4500      val_acc: 0.4448    \n",
      "Epoch  4, CIFAR-10 Batch 3:  cost: 1.2777      acc: 0.4500      val_acc: 0.4384    \n",
      "Epoch  4, CIFAR-10 Batch 4:  cost: 1.4872      acc: 0.4250      val_acc: 0.4546    \n",
      "Epoch  4, CIFAR-10 Batch 5:  cost: 1.5732      acc: 0.4500      val_acc: 0.4628    \n",
      "Epoch  5, CIFAR-10 Batch 1:  cost: 1.7116      acc: 0.4000      val_acc: 0.4672    \n",
      "Epoch  5, CIFAR-10 Batch 2:  cost: 1.4048      acc: 0.5000      val_acc: 0.4664    \n",
      "Epoch  5, CIFAR-10 Batch 3:  cost: 1.2098      acc: 0.5250      val_acc: 0.4648    \n",
      "Epoch  5, CIFAR-10 Batch 4:  cost: 1.4106      acc: 0.4250      val_acc: 0.4776    \n",
      "Epoch  5, CIFAR-10 Batch 5:  cost: 1.4345      acc: 0.5000      val_acc: 0.4730    \n",
      "Epoch  6, CIFAR-10 Batch 1:  cost: 1.6109      acc: 0.5000      val_acc: 0.4852    \n",
      "Epoch  6, CIFAR-10 Batch 2:  cost: 1.2838      acc: 0.5000      val_acc: 0.4936    \n",
      "Epoch  6, CIFAR-10 Batch 3:  cost: 1.1231      acc: 0.5500      val_acc: 0.4918    \n",
      "Epoch  6, CIFAR-10 Batch 4:  cost: 1.3059      acc: 0.5000      val_acc: 0.5012    \n",
      "Epoch  6, CIFAR-10 Batch 5:  cost: 1.3666      acc: 0.5500      val_acc: 0.4852    \n",
      "Epoch  7, CIFAR-10 Batch 1:  cost: 1.5332      acc: 0.3750      val_acc: 0.5088    \n",
      "Epoch  7, CIFAR-10 Batch 2:  cost: 1.2234      acc: 0.5250      val_acc: 0.5170    \n",
      "Epoch  7, CIFAR-10 Batch 3:  cost: 1.0604      acc: 0.5750      val_acc: 0.5152    \n",
      "Epoch  7, CIFAR-10 Batch 4:  cost: 1.2232      acc: 0.5000      val_acc: 0.5164    \n",
      "Epoch  7, CIFAR-10 Batch 5:  cost: 1.3262      acc: 0.5500      val_acc: 0.5084    \n",
      "Epoch  8, CIFAR-10 Batch 1:  cost: 1.3840      acc: 0.6000      val_acc: 0.5356    \n",
      "Epoch  8, CIFAR-10 Batch 2:  cost: 1.0911      acc: 0.6000      val_acc: 0.5338    \n",
      "Epoch  8, CIFAR-10 Batch 3:  cost: 1.0581      acc: 0.6000      val_acc: 0.5170    \n",
      "Epoch  8, CIFAR-10 Batch 4:  cost: 1.2233      acc: 0.5750      val_acc: 0.5358    \n",
      "Epoch  8, CIFAR-10 Batch 5:  cost: 1.2487      acc: 0.5750      val_acc: 0.5242    \n",
      "Epoch  9, CIFAR-10 Batch 1:  cost: 1.3806      acc: 0.5500      val_acc: 0.5488    \n",
      "Epoch  9, CIFAR-10 Batch 2:  cost: 1.0517      acc: 0.5750      val_acc: 0.5434    \n",
      "Epoch  9, CIFAR-10 Batch 3:  cost: 0.9581      acc: 0.6000      val_acc: 0.5498    \n",
      "Epoch  9, CIFAR-10 Batch 4:  cost: 1.1207      acc: 0.6250      val_acc: 0.5514    \n",
      "Epoch  9, CIFAR-10 Batch 5:  cost: 1.2186      acc: 0.6250      val_acc: 0.5248    \n",
      "Epoch 10, CIFAR-10 Batch 1:  cost: 1.3111      acc: 0.5500      val_acc: 0.5682    \n",
      "Epoch 10, CIFAR-10 Batch 2:  cost: 0.9890      acc: 0.6250      val_acc: 0.5398    \n",
      "Epoch 10, CIFAR-10 Batch 3:  cost: 0.9329      acc: 0.5750      val_acc: 0.5532    \n",
      "Epoch 10, CIFAR-10 Batch 4:  cost: 1.0763      acc: 0.5500      val_acc: 0.5624    \n",
      "Epoch 10, CIFAR-10 Batch 5:  cost: 1.1694      acc: 0.6000      val_acc: 0.5310    \n",
      "Epoch 11, CIFAR-10 Batch 1:  cost: 1.1948      acc: 0.6250      val_acc: 0.5846    \n",
      "Epoch 11, CIFAR-10 Batch 2:  cost: 0.9173      acc: 0.5500      val_acc: 0.5704    \n",
      "Epoch 11, CIFAR-10 Batch 3:  cost: 0.8844      acc: 0.7000      val_acc: 0.5720    \n",
      "Epoch 11, CIFAR-10 Batch 4:  cost: 1.0439      acc: 0.5750      val_acc: 0.5746    \n",
      "Epoch 11, CIFAR-10 Batch 5:  cost: 1.0566      acc: 0.7000      val_acc: 0.5666    \n",
      "Epoch 12, CIFAR-10 Batch 1:  cost: 1.1598      acc: 0.6000      val_acc: 0.5874    \n",
      "Epoch 12, CIFAR-10 Batch 2:  cost: 0.9078      acc: 0.5750      val_acc: 0.5798    \n",
      "Epoch 12, CIFAR-10 Batch 3:  cost: 0.8238      acc: 0.7250      val_acc: 0.5848    \n",
      "Epoch 12, CIFAR-10 Batch 4:  cost: 0.9884      acc: 0.6250      val_acc: 0.5766    \n",
      "Epoch 12, CIFAR-10 Batch 5:  cost: 0.9778      acc: 0.7500      val_acc: 0.5876    \n",
      "Epoch 13, CIFAR-10 Batch 1:  cost: 1.0406      acc: 0.6500      val_acc: 0.5970    \n",
      "Epoch 13, CIFAR-10 Batch 2:  cost: 0.8715      acc: 0.6500      val_acc: 0.5844    \n",
      "Epoch 13, CIFAR-10 Batch 3:  cost: 0.7518      acc: 0.7000      val_acc: 0.5904    \n",
      "Epoch 13, CIFAR-10 Batch 4:  cost: 0.9028      acc: 0.6250      val_acc: 0.5934    \n",
      "Epoch 13, CIFAR-10 Batch 5:  cost: 0.9301      acc: 0.7250      val_acc: 0.5952    \n",
      "Epoch 14, CIFAR-10 Batch 1:  cost: 0.9924      acc: 0.7000      val_acc: 0.6104    \n",
      "Epoch 14, CIFAR-10 Batch 2:  cost: 0.7860      acc: 0.6500      val_acc: 0.6028    \n",
      "Epoch 14, CIFAR-10 Batch 3:  cost: 0.7109      acc: 0.7750      val_acc: 0.5906    \n",
      "Epoch 14, CIFAR-10 Batch 4:  cost: 0.8597      acc: 0.6000      val_acc: 0.6042    \n",
      "Epoch 14, CIFAR-10 Batch 5:  cost: 0.8137      acc: 0.7500      val_acc: 0.6060    \n",
      "Epoch 15, CIFAR-10 Batch 1:  cost: 0.8898      acc: 0.7250      val_acc: 0.6230    \n",
      "Epoch 15, CIFAR-10 Batch 2:  cost: 0.7339      acc: 0.6750      val_acc: 0.6054    \n",
      "Epoch 15, CIFAR-10 Batch 3:  cost: 0.6777      acc: 0.7250      val_acc: 0.6222    \n",
      "Epoch 15, CIFAR-10 Batch 4:  cost: 0.8275      acc: 0.7500      val_acc: 0.6082    \n",
      "Epoch 15, CIFAR-10 Batch 5:  cost: 0.7759      acc: 0.8000      val_acc: 0.6158    \n",
      "Epoch 16, CIFAR-10 Batch 1:  cost: 0.8729      acc: 0.7250      val_acc: 0.6174    \n",
      "Epoch 16, CIFAR-10 Batch 2:  cost: 0.7168      acc: 0.7250      val_acc: 0.6040    \n",
      "Epoch 16, CIFAR-10 Batch 3:  cost: 0.6423      acc: 0.7500      val_acc: 0.6028    \n",
      "Epoch 16, CIFAR-10 Batch 4:  cost: 0.7943      acc: 0.6750      val_acc: 0.6204    \n",
      "Epoch 16, CIFAR-10 Batch 5:  cost: 0.7287      acc: 0.7750      val_acc: 0.6200    \n",
      "Epoch 17, CIFAR-10 Batch 1:  cost: 0.8250      acc: 0.7000      val_acc: 0.6214    \n",
      "Epoch 17, CIFAR-10 Batch 2:  cost: 0.6626      acc: 0.7750      val_acc: 0.6200    \n",
      "Epoch 17, CIFAR-10 Batch 3:  cost: 0.5875      acc: 0.8250      val_acc: 0.6288    \n",
      "Epoch 17, CIFAR-10 Batch 4:  cost: 0.7552      acc: 0.7250      val_acc: 0.6238    \n",
      "Epoch 17, CIFAR-10 Batch 5:  cost: 0.7122      acc: 0.7500      val_acc: 0.6238    \n",
      "Epoch 18, CIFAR-10 Batch 1:  cost: 0.7862      acc: 0.7500      val_acc: 0.6264    \n",
      "Epoch 18, CIFAR-10 Batch 2:  cost: 0.6074      acc: 0.8500      val_acc: 0.6352    \n",
      "Epoch 18, CIFAR-10 Batch 3:  cost: 0.5404      acc: 0.7250      val_acc: 0.6336    \n",
      "Epoch 18, CIFAR-10 Batch 4:  cost: 0.7345      acc: 0.7250      val_acc: 0.6218    \n",
      "Epoch 18, CIFAR-10 Batch 5:  cost: 0.6749      acc: 0.7750      val_acc: 0.6278    \n",
      "Epoch 19, CIFAR-10 Batch 1:  cost: 0.7418      acc: 0.7500      val_acc: 0.6300    \n",
      "Epoch 19, CIFAR-10 Batch 2:  cost: 0.5432      acc: 0.8750      val_acc: 0.6432    \n",
      "Epoch 19, CIFAR-10 Batch 3:  cost: 0.5600      acc: 0.8000      val_acc: 0.6148    \n",
      "Epoch 19, CIFAR-10 Batch 4:  cost: 0.6585      acc: 0.7250      val_acc: 0.6396    \n",
      "Epoch 19, CIFAR-10 Batch 5:  cost: 0.5698      acc: 0.9250      val_acc: 0.6310    \n",
      "Epoch 20, CIFAR-10 Batch 1:  cost: 0.6928      acc: 0.7250      val_acc: 0.6330    \n",
      "Epoch 20, CIFAR-10 Batch 2:  cost: 0.5654      acc: 0.8250      val_acc: 0.6348    \n",
      "Epoch 20, CIFAR-10 Batch 3:  cost: 0.4855      acc: 0.8250      val_acc: 0.6334    \n"
     ]
    },
    {
     "name": "stdout",
     "output_type": "stream",
     "text": [
      "Epoch 20, CIFAR-10 Batch 4:  cost: 0.6225      acc: 0.8500      val_acc: 0.6386    \n",
      "Epoch 20, CIFAR-10 Batch 5:  cost: 0.5683      acc: 0.9000      val_acc: 0.6298    \n",
      "Epoch 21, CIFAR-10 Batch 1:  cost: 0.6857      acc: 0.7750      val_acc: 0.6318    \n",
      "Epoch 21, CIFAR-10 Batch 2:  cost: 0.5015      acc: 0.8750      val_acc: 0.6300    \n",
      "Epoch 21, CIFAR-10 Batch 3:  cost: 0.4670      acc: 0.8250      val_acc: 0.6372    \n",
      "Epoch 21, CIFAR-10 Batch 4:  cost: 0.5852      acc: 0.8500      val_acc: 0.6392    \n",
      "Epoch 21, CIFAR-10 Batch 5:  cost: 0.5456      acc: 0.9000      val_acc: 0.6340    \n",
      "Epoch 22, CIFAR-10 Batch 1:  cost: 0.6279      acc: 0.7750      val_acc: 0.6392    \n",
      "Epoch 22, CIFAR-10 Batch 2:  cost: 0.4596      acc: 0.9000      val_acc: 0.6436    \n",
      "Epoch 22, CIFAR-10 Batch 3:  cost: 0.4157      acc: 0.9000      val_acc: 0.6432    \n",
      "Epoch 22, CIFAR-10 Batch 4:  cost: 0.6043      acc: 0.8500      val_acc: 0.6410    \n",
      "Epoch 22, CIFAR-10 Batch 5:  cost: 0.5057      acc: 0.9000      val_acc: 0.6362    \n",
      "Epoch 23, CIFAR-10 Batch 1:  cost: 0.6131      acc: 0.8000      val_acc: 0.6346    \n",
      "Epoch 23, CIFAR-10 Batch 2:  cost: 0.4488      acc: 0.9500      val_acc: 0.6442    \n",
      "Epoch 23, CIFAR-10 Batch 3:  cost: 0.4377      acc: 0.9000      val_acc: 0.6422    \n",
      "Epoch 23, CIFAR-10 Batch 4:  cost: 0.5881      acc: 0.8250      val_acc: 0.6478    \n",
      "Epoch 23, CIFAR-10 Batch 5:  cost: 0.4798      acc: 0.9250      val_acc: 0.6238    \n",
      "Epoch 24, CIFAR-10 Batch 1:  cost: 0.5796      acc: 0.8000      val_acc: 0.6426    \n",
      "Epoch 24, CIFAR-10 Batch 2:  cost: 0.4046      acc: 0.9500      val_acc: 0.6386    \n",
      "Epoch 24, CIFAR-10 Batch 3:  cost: 0.4409      acc: 0.9000      val_acc: 0.6512    \n",
      "Epoch 24, CIFAR-10 Batch 4:  cost: 0.5419      acc: 0.8250      val_acc: 0.6450    \n",
      "Epoch 24, CIFAR-10 Batch 5:  cost: 0.4891      acc: 0.9000      val_acc: 0.6396    \n",
      "Epoch 25, CIFAR-10 Batch 1:  cost: 0.5895      acc: 0.8000      val_acc: 0.6404    \n",
      "Epoch 25, CIFAR-10 Batch 2:  cost: 0.4278      acc: 0.9250      val_acc: 0.6438    \n",
      "Epoch 25, CIFAR-10 Batch 3:  cost: 0.3709      acc: 0.9250      val_acc: 0.6534    \n",
      "Epoch 25, CIFAR-10 Batch 4:  cost: 0.5024      acc: 0.9000      val_acc: 0.6514    \n",
      "Epoch 25, CIFAR-10 Batch 5:  cost: 0.4928      acc: 0.9000      val_acc: 0.6426    \n",
      "Epoch 26, CIFAR-10 Batch 1:  cost: 0.5133      acc: 0.8250      val_acc: 0.6392    \n",
      "Epoch 26, CIFAR-10 Batch 2:  cost: 0.4030      acc: 0.9000      val_acc: 0.6442    \n",
      "Epoch 26, CIFAR-10 Batch 3:  cost: 0.3584      acc: 0.9250      val_acc: 0.6572    \n",
      "Epoch 26, CIFAR-10 Batch 4:  cost: 0.4834      acc: 0.8250      val_acc: 0.6492    \n",
      "Epoch 26, CIFAR-10 Batch 5:  cost: 0.4320      acc: 0.8750      val_acc: 0.6392    \n",
      "Epoch 27, CIFAR-10 Batch 1:  cost: 0.4722      acc: 0.8500      val_acc: 0.6390    \n",
      "Epoch 27, CIFAR-10 Batch 2:  cost: 0.4299      acc: 0.9250      val_acc: 0.6442    \n",
      "Epoch 27, CIFAR-10 Batch 3:  cost: 0.3311      acc: 0.9250      val_acc: 0.6538    \n",
      "Epoch 27, CIFAR-10 Batch 4:  cost: 0.4769      acc: 0.9000      val_acc: 0.6540    \n",
      "Epoch 27, CIFAR-10 Batch 5:  cost: 0.4345      acc: 0.9250      val_acc: 0.6430    \n",
      "Epoch 28, CIFAR-10 Batch 1:  cost: 0.5483      acc: 0.8250      val_acc: 0.6420    \n",
      "Epoch 28, CIFAR-10 Batch 2:  cost: 0.4098      acc: 0.9750      val_acc: 0.6556    \n",
      "Epoch 28, CIFAR-10 Batch 3:  cost: 0.3572      acc: 0.9500      val_acc: 0.6606    \n",
      "Epoch 28, CIFAR-10 Batch 4:  cost: 0.4858      acc: 0.8750      val_acc: 0.6504    \n",
      "Epoch 28, CIFAR-10 Batch 5:  cost: 0.4148      acc: 0.8750      val_acc: 0.6380    \n",
      "Epoch 29, CIFAR-10 Batch 1:  cost: 0.4579      acc: 0.9000      val_acc: 0.6314    \n",
      "Epoch 29, CIFAR-10 Batch 2:  cost: 0.3768      acc: 0.9750      val_acc: 0.6492    \n",
      "Epoch 29, CIFAR-10 Batch 3:  cost: 0.3344      acc: 0.9000      val_acc: 0.6512    \n",
      "Epoch 29, CIFAR-10 Batch 4:  cost: 0.4369      acc: 0.9500      val_acc: 0.6536    \n",
      "Epoch 29, CIFAR-10 Batch 5:  cost: 0.4207      acc: 0.8750      val_acc: 0.6424    \n",
      "Epoch 30, CIFAR-10 Batch 1:  cost: 0.4988      acc: 0.8500      val_acc: 0.6316    \n",
      "Epoch 30, CIFAR-10 Batch 2:  cost: 0.3442      acc: 0.9750      val_acc: 0.6582    \n",
      "Epoch 30, CIFAR-10 Batch 3:  cost: 0.3493      acc: 0.9500      val_acc: 0.6620    \n",
      "Epoch 30, CIFAR-10 Batch 4:  cost: 0.4704      acc: 0.9000      val_acc: 0.6496    \n",
      "Epoch 30, CIFAR-10 Batch 5:  cost: 0.3722      acc: 0.9000      val_acc: 0.6432    \n"
     ]
    }
   ],
   "source": [
    "\"\"\"\n",
    "DON'T MODIFY ANYTHING IN THIS CELL\n",
    "\"\"\"\n",
    "save_model_path = './image_classification'\n",
    "\n",
    "print('Training...')\n",
    "with tf.Session() as sess:\n",
    "    # Initializing the variables\n",
    "    sess.run(tf.global_variables_initializer())\n",
    "    \n",
    "    # Training cycle\n",
    "    for epoch in range(epochs):\n",
    "        # Loop over all batches\n",
    "        n_batches = 5\n",
    "        for batch_i in range(1, n_batches + 1):\n",
    "            for batch_features, batch_labels in helper.load_preprocess_training_batch(batch_i, batch_size):\n",
    "                train_neural_network(sess, optimizer, keep_probability, batch_features, batch_labels)\n",
    "            print('Epoch {:>2}, CIFAR-10 Batch {}:  '.format(epoch + 1, batch_i), end='')\n",
    "            print_stats(sess, batch_features, batch_labels, cost, accuracy)\n",
    "            \n",
    "    # Save Model\n",
    "    saver = tf.train.Saver()\n",
    "    save_path = saver.save(sess, save_model_path)"
   ]
  },
  {
   "cell_type": "markdown",
   "metadata": {},
   "source": [
    "# Checkpoint\n",
    "The model has been saved to disk.\n",
    "## Test Model\n",
    "Test your model against the test dataset.  This will be your final accuracy. You should have an accuracy greater than 50%. If you don't, keep tweaking the model architecture and parameters."
   ]
  },
  {
   "cell_type": "code",
   "execution_count": 41,
   "metadata": {
    "scrolled": false
   },
   "outputs": [
    {
     "name": "stdout",
     "output_type": "stream",
     "text": [
      "INFO:tensorflow:Restoring parameters from ./image_classification\n",
      "Testing Accuracy: 0.6558544303797469\n",
      "\n"
     ]
    },
    {
     "data": {
      "image/png": "[encoded data removed]",
      "text/plain": [
       "<matplotlib.figure.Figure at 0x1a21be1828>"
      ]
     },
     "metadata": {
      "image/png": {
       "height": 319,
       "width": 355
      }
     },
     "output_type": "display_data"
    }
   ],
   "source": [
    "\"\"\"\n",
    "DON'T MODIFY ANYTHING IN THIS CELL\n",
    "\"\"\"\n",
    "%matplotlib inline\n",
    "%config InlineBackend.figure_format = 'retina'\n",
    "\n",
    "import tensorflow as tf\n",
    "import pickle\n",
    "import helper\n",
    "import random\n",
    "\n",
    "# Set batch size if not already set\n",
    "try:\n",
    "    if batch_size:\n",
    "        pass\n",
    "except NameError:\n",
    "    batch_size = 64\n",
    "\n",
    "save_model_path = './image_classification'\n",
    "n_samples = 4\n",
    "top_n_predictions = 3\n",
    "\n",
    "def test_model():\n",
    "    \"\"\"\n",
    "    Test the saved model against the test dataset\n",
    "    \"\"\"\n",
    "\n",
    "    test_features, test_labels = pickle.load(open('preprocess_training.p', mode='rb'))\n",
    "    loaded_graph = tf.Graph()\n",
    "\n",
    "    with tf.Session(graph=loaded_graph) as sess:\n",
    "        # Load model\n",
    "        loader = tf.train.import_meta_graph(save_model_path + '.meta')\n",
    "        loader.restore(sess, save_model_path)\n",
    "\n",
    "        # Get Tensors from loaded model\n",
    "        loaded_x = loaded_graph.get_tensor_by_name('x:0')\n",
    "        loaded_y = loaded_graph.get_tensor_by_name('y:0')\n",
    "        loaded_keep_prob = loaded_graph.get_tensor_by_name('keep_prob:0')\n",
    "        loaded_logits = loaded_graph.get_tensor_by_name('logits:0')\n",
    "        loaded_acc = loaded_graph.get_tensor_by_name('accuracy:0')\n",
    "        \n",
    "        # Get accuracy in batches for memory limitations\n",
    "        test_batch_acc_total = 0\n",
    "        test_batch_count = 0\n",
    "        \n",
    "        for train_feature_batch, train_label_batch in helper.batch_features_labels(test_features, test_labels, batch_size):\n",
    "            test_batch_acc_total += sess.run(\n",
    "                loaded_acc,\n",
    "                feed_dict={loaded_x: train_feature_batch, loaded_y: train_label_batch, loaded_keep_prob: 1.0})\n",
    "            test_batch_count += 1\n",
    "\n",
    "        print('Testing Accuracy: {}\\n'.format(test_batch_acc_total/test_batch_count))\n",
    "\n",
    "        # Print Random Samples\n",
    "        random_test_features, random_test_labels = tuple(zip(*random.sample(list(zip(test_features, test_labels)), n_samples)))\n",
    "        random_test_predictions = sess.run(\n",
    "            tf.nn.top_k(tf.nn.softmax(loaded_logits), top_n_predictions),\n",
    "            feed_dict={loaded_x: random_test_features, loaded_y: random_test_labels, loaded_keep_prob: 1.0})\n",
    "        helper.display_image_predictions(random_test_features, random_test_labels, random_test_predictions)\n",
    "\n",
    "\n",
    "test_model()"
   ]
  },
  {
   "cell_type": "markdown",
   "metadata": {},
   "source": [
    "## Why 50-80% Accuracy?\n",
    "You might be wondering why you can't get an accuracy any higher. First things first, 50% isn't bad for a simple CNN.  Pure guessing would get you 10% accuracy. That's because there are many more techniques that can be applied to your model and we recemmond that once you are done with this project, you explore!\n",
    "\n",
    "## Submitting This Project\n",
    "When submitting this project, make sure to run all the cells before saving the notebook.  Save the notebook file as \"image_classification.ipynb\" and save it as a HTML file under \"File\" -> \"Download as\".  Include the \"helper.py\" and \"problem_unittests.py\" files in your submission."
   ]
  }
 ],
 "metadata": {
  "kernelspec": {
   "display_name": "Python 3",
   "language": "python",
   "name": "python3"
  },
  "language_info": {
   "codemirror_mode": {
    "name": "ipython",
    "version": 3
   },
   "file_extension": ".py",
   "mimetype": "text/x-python",
   "name": "python",
   "nbconvert_exporter": "python",
   "pygments_lexer": "ipython3",
   "version": "3.5.4"
  }
 },
 "nbformat": 4,
 "nbformat_minor": 1
}
